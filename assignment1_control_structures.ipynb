{
 "cells": [
  {
   "cell_type": "code",
   "execution_count": 1,
   "id": "d94f4f42-d05d-4bd0-9c36-99a24eabb3e4",
   "metadata": {},
   "outputs": [
    {
     "name": "stdout",
     "output_type": "stream",
     "text": [
      "Welcome to Assignment-1\n"
     ]
    }
   ],
   "source": [
    "print(\"Welcome to Assignment-1\")"
   ]
  },
  {
   "cell_type": "code",
   "execution_count": null,
   "id": "4bf0cf78-0f01-4776-9658-6890f64c6f46",
   "metadata": {},
   "outputs": [],
   "source": [
    "#Addition of two numbers"
   ]
  },
  {
   "cell_type": "code",
   "execution_count": 7,
   "id": "7b38b0e7-51ed-499f-9752-8d5a44dd7734",
   "metadata": {},
   "outputs": [
    {
     "name": "stdout",
     "output_type": "stream",
     "text": [
      "Num1= 10\n",
      "Num2= 30\n",
      "Add= 40\n"
     ]
    }
   ],
   "source": [
    "num1 = 10\n",
    "print(\"Num1=\", num1)\n",
    "num2 = 30\n",
    "print(\"Num2=\", num2)\n",
    "print(\"Add=\", num1+num2)"
   ]
  },
  {
   "cell_type": "code",
   "execution_count": null,
   "id": "67ff7661-2c5b-4a06-816e-fb2c9fb49e24",
   "metadata": {},
   "outputs": [],
   "source": [
    "#Body Mass Index"
   ]
  },
  {
   "cell_type": "code",
   "execution_count": 31,
   "id": "22c5efb6-8976-4aa5-a56a-90ee4fd95b2a",
   "metadata": {},
   "outputs": [
    {
     "name": "stdin",
     "output_type": "stream",
     "text": [
      "Enter the BMI Index: 34\n"
     ]
    },
    {
     "name": "stdout",
     "output_type": "stream",
     "text": [
      "Very Overweight\n"
     ]
    }
   ],
   "source": [
    "bmi = float(input(\"Enter the BMI Index:\"))\n",
    "if(bmi>=30.0):\n",
    "    print(\"Very Overweight\")\n",
    "elif(25.0 <= bmi <=29.9):\n",
    "    print(\"Overweight\")\n",
    "elif(18.5 <= bmi <=24.9):\n",
    "    print(\"Normal range\")\n",
    "else:\n",
    "    print(\"Underweight\")\n",
    "    "
   ]
  },
  {
   "cell_type": "code",
   "execution_count": null,
   "id": "43c7bdd8-2e06-4321-8c65-90d36f992ddc",
   "metadata": {},
   "outputs": [],
   "source": []
  }
 ],
 "metadata": {
  "kernelspec": {
   "display_name": "Python [conda env:base] *",
   "language": "python",
   "name": "conda-base-py"
  },
  "language_info": {
   "codemirror_mode": {
    "name": "ipython",
    "version": 3
   },
   "file_extension": ".py",
   "mimetype": "text/x-python",
   "name": "python",
   "nbconvert_exporter": "python",
   "pygments_lexer": "ipython3",
   "version": "3.12.7"
  }
 },
 "nbformat": 4,
 "nbformat_minor": 5
}
