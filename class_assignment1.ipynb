{
 "cells": [
  {
   "cell_type": "code",
   "execution_count": 1,
   "id": "278e0e21-4b08-491e-bb23-3eee427e3911",
   "metadata": {},
   "outputs": [],
   "source": [
    "# create a class and function, and list out the items in the list\n",
    "\n",
    "class SubfieldsInAI:\n",
    "    lists = [\"Machine Learning\",\"Neural Networks\",\"Vision\",\"Robotics\",\"Speech Processing\",\"Natural Language Processing\"]\n",
    "    def Subfields():\n",
    "        print(\"Sub-fields in AI are:\")\n",
    "        for temp in lists:\n",
    "            print(temp)"
   ]
  },
  {
   "cell_type": "code",
   "execution_count": 37,
   "id": "63e78e80-c3e8-49e4-8256-af66821d788b",
   "metadata": {},
   "outputs": [
    {
     "name": "stdout",
     "output_type": "stream",
     "text": [
      "Sub-fields in AI are:\n",
      "Machine Learning\n",
      "Neural Networks\n",
      "Vision\n",
      "Robotics\n",
      "Speech Processing\n",
      "Natural Language Processing\n"
     ]
    }
   ],
   "source": [
    "SubfieldsInAI.Subfields()"
   ]
  },
  {
   "cell_type": "code",
   "execution_count": 13,
   "id": "30c907a8-cd64-44a3-9a84-b0d5eddbfa60",
   "metadata": {},
   "outputs": [],
   "source": [
    "# Create a function that checks whether the given number is Odd or Even\n",
    "\n",
    "class OddEven:\n",
    "    def oddEven():\n",
    "        num = int(input(\"Enter a number:\"))\n",
    "        if(num%2==0):\n",
    "            print(num, \"is Even number\")\n",
    "        else:\n",
    "            print(num, \"is Odd number\")"
   ]
  },
  {
   "cell_type": "code",
   "execution_count": 15,
   "id": "ff419772-0723-49bb-a39f-4adade0fe841",
   "metadata": {},
   "outputs": [
    {
     "name": "stdin",
     "output_type": "stream",
     "text": [
      "Enter a number: 52452\n"
     ]
    },
    {
     "name": "stdout",
     "output_type": "stream",
     "text": [
      "52452 is Even number\n"
     ]
    }
   ],
   "source": [
    "OddEven.oddEven()"
   ]
  },
  {
   "cell_type": "code",
   "execution_count": 31,
   "id": "8d8d1b5d-2fce-4dbb-a0b2-9dc11b344039",
   "metadata": {},
   "outputs": [],
   "source": [
    "\"\"\"Create a function that tells elegibility of marriage for male and female \n",
    "according to their age limit like 21 for male and 18 for female\"\"\"\n",
    "\n",
    "class ElegiblityForMarriage():\n",
    "    def Elegible():\n",
    "        gender=\"Male\"\n",
    "        age=20\n",
    "        if(gender == \"Male\" and age>=21):\n",
    "            print(\"Your Gender:\"+gender, \"\\nYour Age:\"+str(age))\n",
    "            print(\"ELIGIBLE\")\n",
    "        elif(gender == \"Female\" and age>=18):\n",
    "            print(\"Your Gender:\"+gender, \"\\nYour Age:\"+str(age))\n",
    "            print(\"ELIGIBLE\")\n",
    "        else:\n",
    "            print(\"Your Gender:\"+gender, \"\\nYour Age:\"+str(age))\n",
    "            print(\"NOT ELIGIBLE\")"
   ]
  },
  {
   "cell_type": "code",
   "execution_count": 33,
   "id": "6b0a7b3c-0610-4a17-91da-f6c9c52a160b",
   "metadata": {},
   "outputs": [
    {
     "name": "stdout",
     "output_type": "stream",
     "text": [
      "Your Gender:Male \n",
      "Your Age:20\n",
      "NOT ELIGIBLE\n"
     ]
    }
   ],
   "source": [
    "ElegiblityForMarriage.Elegible()"
   ]
  },
  {
   "cell_type": "code",
   "execution_count": 41,
   "id": "a9ed39f0-9f01-416f-9d1f-9bccce76df2c",
   "metadata": {},
   "outputs": [],
   "source": [
    "# calculate the percentage of your 10th mark\n",
    "class FindPercent:\n",
    "    def percentage():\n",
    "        Subject1=98\n",
    "        Subject2=87\n",
    "        Subject3=95\n",
    "        Subject4=95\n",
    "        Subject5=93\n",
    "        total = Subject1+Subject2+Subject3+Subject4+Subject5\n",
    "        percentage = total/5\n",
    "        print(\"Subject1= \"+str(Subject1)+\"\\nSubject2= \"+str(Subject2)+\"\\nSubject3= \"+str(Subject3)+\"\\nSubject4= \"+str(Subject4)+\"\\nSubject5= \"+str(Subject5))\n",
    "        print(\"Total : \",total)\n",
    "        print(\"Percentage : \", percentage)"
   ]
  },
  {
   "cell_type": "code",
   "execution_count": 43,
   "id": "669d419e-124f-44e6-babf-9c4686eab087",
   "metadata": {},
   "outputs": [
    {
     "name": "stdout",
     "output_type": "stream",
     "text": [
      "Subject1= 98\n",
      "Subject2= 87\n",
      "Subject3= 95\n",
      "Subject4= 95\n",
      "Subject5= 93\n",
      "Total :  468\n",
      "Percentage :  93.6\n"
     ]
    }
   ],
   "source": [
    "FindPercent.percentage()"
   ]
  },
  {
   "cell_type": "code",
   "execution_count": 61,
   "id": "960f7d24-9815-49da-8b1f-7c7717f8c14d",
   "metadata": {},
   "outputs": [],
   "source": [
    "#print area and perimeter of triangle using class and functions\n",
    "\n",
    "class triangle:\n",
    "    def triangle():\n",
    "        Height=32\n",
    "        Breadth=34\n",
    "        areaOfTriangle=(Height*Breadth)/2\n",
    "        print(\"Height: \"+str(Height)+\"\\nBreadth: \"+str(Breadth))\n",
    "        print(\"Area formula: (Height*Breadth)/2\")\n",
    "        print(\"Area of Triangle: \", areaOfTriangle)\n",
    "        Height1=2\n",
    "        Height2=4\n",
    "        Breadth1=4\n",
    "        perimeterOfTriangle=Height1+Height2+Breadth1\n",
    "        print(\"Height1: \"+str(Height1)+\"Height2: \"+str(Height2)+\"\\nBreadth1: \"+str(Breadth1))\n",
    "        print(\"Perimeter formula: Height1+Height2+Breadth\")\n",
    "        print(\"Perimeter of Triangle: \", perimeterOfTriangle)"
   ]
  },
  {
   "cell_type": "code",
   "execution_count": 63,
   "id": "91736c97-ff57-4647-89fe-9adc8aa5e35f",
   "metadata": {},
   "outputs": [
    {
     "name": "stdout",
     "output_type": "stream",
     "text": [
      "Height: 32\n",
      "Breadth: 34\n",
      "Area formula: (Height*Breadth)/2\n",
      "Area of Triangle:  544.0\n",
      "Height1: 2Height2: 4\n",
      "Breadth1: 4\n",
      "Perimeter formula: Height1+Height2+Breadth\n",
      "Perimeter of Triangle:  10\n"
     ]
    }
   ],
   "source": [
    "triangle.triangle()"
   ]
  },
  {
   "cell_type": "code",
   "execution_count": null,
   "id": "e15701b6-989b-4278-ad61-7caedd842833",
   "metadata": {},
   "outputs": [],
   "source": []
  }
 ],
 "metadata": {
  "kernelspec": {
   "display_name": "Python [conda env:base] *",
   "language": "python",
   "name": "conda-base-py"
  },
  "language_info": {
   "codemirror_mode": {
    "name": "ipython",
    "version": 3
   },
   "file_extension": ".py",
   "mimetype": "text/x-python",
   "name": "python",
   "nbconvert_exporter": "python",
   "pygments_lexer": "ipython3",
   "version": "3.12.7"
  }
 },
 "nbformat": 4,
 "nbformat_minor": 5
}
