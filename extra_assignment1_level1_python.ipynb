{
 "cells": [
  {
   "cell_type": "code",
   "execution_count": 1,
   "id": "f9746165-03e8-4f20-b2c6-8d0492d77d99",
   "metadata": {},
   "outputs": [
    {
     "name": "stdout",
     "output_type": "stream",
     "text": [
      "HOPE AI\n"
     ]
    }
   ],
   "source": [
    "#print statement\n",
    "print(\"HOPE AI\")"
   ]
  },
  {
   "cell_type": "code",
   "execution_count": 35,
   "id": "800f03c8-9ef3-486d-8470-6801e9bf5b0c",
   "metadata": {},
   "outputs": [
    {
     "name": "stdout",
     "output_type": "stream",
     "text": [
      "Enter your institute name? : HOPE AI\n"
     ]
    }
   ],
   "source": [
    "# Buy input\n",
    "institute_name = \"HOPE AI\"\n",
    "print(\"Enter your institute name? :\", institute_name)"
   ]
  },
  {
   "cell_type": "code",
   "execution_count": 13,
   "id": "7579102b-8b15-4dff-954d-bdd39fea7416",
   "metadata": {},
   "outputs": [
    {
     "name": "stdout",
     "output_type": "stream",
     "text": [
      "Enter your name: Raj\n",
      "Enter your age: 15\n",
      "Enter your school name: Guru school\n",
      "Enter your degree: B.E CSE\n"
     ]
    }
   ],
   "source": [
    "# Buy inputs\n",
    "name='Raj'\n",
    "print(\"Enter your name:\", name)\n",
    "age=15\n",
    "print(\"Enter your age:\", age)\n",
    "school_name='Guru school'\n",
    "print(\"Enter your school name:\", school_name)\n",
    "degree=\"B.E CSE\"\n",
    "print(\"Enter your degree:\", degree)"
   ]
  },
  {
   "cell_type": "code",
   "execution_count": 15,
   "id": "a294411c-6f34-4c85-9e76-449193f5c9db",
   "metadata": {},
   "outputs": [
    {
     "name": "stdout",
     "output_type": "stream",
     "text": [
      "a= 43\n",
      "b= 34\n",
      "add= 77\n"
     ]
    }
   ],
   "source": [
    "#Addition\n",
    "a=43\n",
    "b=34\n",
    "print(\"a=\", a)\n",
    "print(\"b=\", b)\n",
    "print(\"add=\", a+b)"
   ]
  },
  {
   "cell_type": "code",
   "execution_count": 17,
   "id": "afaa15df-affd-45e6-9b3f-75548b932d92",
   "metadata": {},
   "outputs": [
    {
     "name": "stdout",
     "output_type": "stream",
     "text": [
      "a= 43\n",
      "b= 34\n",
      "Sub= 9\n"
     ]
    }
   ],
   "source": [
    "#Subtraction\n",
    "a=43\n",
    "b=34\n",
    "print(\"a=\", a)\n",
    "print(\"b=\", b)\n",
    "print(\"Sub=\", a-b)"
   ]
  },
  {
   "cell_type": "code",
   "execution_count": 21,
   "id": "a79954e8-94cd-4b4f-9c19-3d78eae55abe",
   "metadata": {},
   "outputs": [
    {
     "name": "stdout",
     "output_type": "stream",
     "text": [
      "a= 63\n",
      "b= 97\n",
      "Mul= 6111\n"
     ]
    }
   ],
   "source": [
    "#Multiplication\n",
    "a=63\n",
    "b=97\n",
    "print(\"a=\", a)\n",
    "print(\"b=\", b)\n",
    "print(\"Mul=\", a*b)"
   ]
  },
  {
   "cell_type": "code",
   "execution_count": 23,
   "id": "5eecb0b1-6100-48fc-bfe6-caa5dc0cac21",
   "metadata": {},
   "outputs": [
    {
     "name": "stdout",
     "output_type": "stream",
     "text": [
      "a= 76\n",
      "b= 31\n",
      "Float Div= 2.4516129032258065\n"
     ]
    }
   ],
   "source": [
    "#Division\n",
    "a=76\n",
    "b=31\n",
    "print(\"a=\", a)\n",
    "print(\"b=\", b)\n",
    "print(\"Float Div=\", a/b)"
   ]
  },
  {
   "cell_type": "code",
   "execution_count": 27,
   "id": "5a4ad157-77d1-4180-8da6-c646d98ef7d1",
   "metadata": {},
   "outputs": [
    {
     "name": "stdout",
     "output_type": "stream",
     "text": [
      "a= 76\n",
      "b= 31\n",
      "Floor Div= 2\n"
     ]
    }
   ],
   "source": [
    "#Floor Division\n",
    "a=76\n",
    "b=31\n",
    "print(\"a=\", a)\n",
    "print(\"b=\", b)\n",
    "print(\"Floor Div=\", a//b)"
   ]
  },
  {
   "cell_type": "code",
   "execution_count": 29,
   "id": "3a60ee1f-3f99-428b-afa8-d110e5c9abcf",
   "metadata": {},
   "outputs": [
    {
     "name": "stdout",
     "output_type": "stream",
     "text": [
      "a= 76\n",
      "b= 31\n",
      "Modulo= 14\n"
     ]
    }
   ],
   "source": [
    "#Modulo\n",
    "a=76\n",
    "b=31\n",
    "print(\"a=\", a)\n",
    "print(\"b=\", b)\n",
    "print(\"Modulo=\", a%b)"
   ]
  },
  {
   "cell_type": "code",
   "execution_count": 33,
   "id": "526c0420-e138-4313-91ed-cbe8f36236ea",
   "metadata": {},
   "outputs": [
    {
     "name": "stdout",
     "output_type": "stream",
     "text": [
      "a= 4\n",
      "b= 4\n",
      "Power= 256\n"
     ]
    }
   ],
   "source": [
    "#Power\n",
    "a=4\n",
    "b=4\n",
    "print(\"a=\", a)\n",
    "print(\"b=\", b)\n",
    "print(\"Power=\", a**b)"
   ]
  },
  {
   "cell_type": "code",
   "execution_count": null,
   "id": "cad0c75b-dda2-4583-aa02-915ccfba3eb6",
   "metadata": {},
   "outputs": [],
   "source": []
  }
 ],
 "metadata": {
  "kernelspec": {
   "display_name": "Python [conda env:base] *",
   "language": "python",
   "name": "conda-base-py"
  },
  "language_info": {
   "codemirror_mode": {
    "name": "ipython",
    "version": 3
   },
   "file_extension": ".py",
   "mimetype": "text/x-python",
   "name": "python",
   "nbconvert_exporter": "python",
   "pygments_lexer": "ipython3",
   "version": "3.12.7"
  }
 },
 "nbformat": 4,
 "nbformat_minor": 5
}
