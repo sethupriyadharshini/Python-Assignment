{
 "cells": [
  {
   "cell_type": "code",
   "execution_count": 1,
   "id": "c446859c-06d8-4c94-bc46-8cb1d12694ed",
   "metadata": {},
   "outputs": [
    {
     "name": "stdout",
     "output_type": "stream",
     "text": [
      "value: 10\n",
      "Correct\n"
     ]
    }
   ],
   "source": [
    "# print 'CORRECT' if i==10\n",
    "\n",
    "for i in range(0,11):\n",
    "    if(i==10):\n",
    "        print(\"value:\", i)\n",
    "        print(\"Correct\")"
   ]
  },
  {
   "cell_type": "code",
   "execution_count": 9,
   "id": "2b3267b3-85ef-4109-a63e-a87426ef2bbe",
   "metadata": {},
   "outputs": [
    {
     "name": "stdin",
     "output_type": "stream",
     "text": [
      "Enter the password: HOPE@123\n"
     ]
    },
    {
     "name": "stdout",
     "output_type": "stream",
     "text": [
      "Your password is correct\n"
     ]
    }
   ],
   "source": [
    "# Check the password, using if and else\n",
    "\n",
    "correct_password = \"HOPE@123\"\n",
    "entered_password = input(\"Enter the password:\")\n",
    "if(entered_password==correct_password):\n",
    "    print(\"Your password is correct\")\n",
    "else:\n",
    "    print(\"Your password is incorrect\")"
   ]
  },
  {
   "cell_type": "code",
   "execution_count": 27,
   "id": "75ed3313-b965-4697-8ff2-55e50801d91e",
   "metadata": {},
   "outputs": [
    {
     "name": "stdout",
     "output_type": "stream",
     "text": [
      "Adult\n"
     ]
    }
   ],
   "source": [
    "# Category the people by their age like children, adult, citizen, senior citizen\n",
    "\n",
    "age = 20\n",
    "if(0<age<=12):\n",
    "    print(\"Children\")\n",
    "elif(13<=age<=35):\n",
    "    print(\"Adult\")\n",
    "elif(36<=age<=56):\n",
    "    print(\"Citizen\")\n",
    "elif(57<=age<=130):\n",
    "    print(\"Senior Citizen\")\n",
    "else:\n",
    "    print(\"Enter the age between 1 to 130\")"
   ]
  },
  {
   "cell_type": "code",
   "execution_count": 33,
   "id": "55d17033-26b6-404d-9389-6c593a0d9465",
   "metadata": {},
   "outputs": [
    {
     "name": "stdin",
     "output_type": "stream",
     "text": [
      "Enter any number: 1\n"
     ]
    },
    {
     "name": "stdout",
     "output_type": "stream",
     "text": [
      "No. is positive\n"
     ]
    }
   ],
   "source": [
    "# Find whether given number is positive or negative\n",
    "number = int(input(\"Enter any number:\"))\n",
    "if(number<0):\n",
    "    print(\"No. is negative\")\n",
    "else:\n",
    "    print(\"No. is positive\")"
   ]
  },
  {
   "cell_type": "code",
   "execution_count": 39,
   "id": "c9f76948-b3d7-4d20-9c17-c8da4006faf2",
   "metadata": {},
   "outputs": [
    {
     "name": "stdin",
     "output_type": "stream",
     "text": [
      "Enter a number to check: 22\n"
     ]
    },
    {
     "name": "stdout",
     "output_type": "stream",
     "text": [
      "No. is not divisible by 5\n"
     ]
    }
   ],
   "source": [
    "# Check whether the given number is divisible by 5\n",
    "number = int(input(\"Enter a number to check:\"))\n",
    "if(number%5==0):\n",
    "    print(\"No. is divisible by 5\")\n",
    "else:\n",
    "    print(\"No. is not divisible by 5\")"
   ]
  },
  {
   "cell_type": "code",
   "execution_count": null,
   "id": "39cc7a22-5505-4526-8c61-c55721b4acec",
   "metadata": {},
   "outputs": [],
   "source": []
  }
 ],
 "metadata": {
  "kernelspec": {
   "display_name": "Python [conda env:base] *",
   "language": "python",
   "name": "conda-base-py"
  },
  "language_info": {
   "codemirror_mode": {
    "name": "ipython",
    "version": 3
   },
   "file_extension": ".py",
   "mimetype": "text/x-python",
   "name": "python",
   "nbconvert_exporter": "python",
   "pygments_lexer": "ipython3",
   "version": "3.12.7"
  }
 },
 "nbformat": 4,
 "nbformat_minor": 5
}
